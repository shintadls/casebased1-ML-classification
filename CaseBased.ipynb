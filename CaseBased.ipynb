{
  "cells": [
    {
      "cell_type": "markdown",
      "metadata": {
        "id": "ReGTro6C6bL1"
      },
      "source": [
        "1. Data Preprocessing"
      ]
    },
    {
      "cell_type": "code",
      "execution_count": null,
      "metadata": {
        "id": "sBpef2qT5Kwe"
      },
      "outputs": [],
      "source": [
        "import pandas as pd\n",
        "import numpy as np"
      ]
    },
    {
      "cell_type": "markdown",
      "metadata": {
        "id": "NPXQFLEh6et_"
      },
      "source": [
        "Load the Dataset"
      ]
    },
    {
      "cell_type": "code",
      "execution_count": null,
      "metadata": {
        "colab": {
          "base_uri": "https://localhost:8080/"
        },
        "id": "WxyCAnbwMnNb",
        "outputId": "f12b092d-9e4e-47aa-80a6-c43eca86f708"
      },
      "outputs": [
        {
          "output_type": "stream",
          "name": "stdout",
          "text": [
            "     Sample code number  Clump Thickness  Uniformity of Cell Size  \\\n",
            "0             1002945.0              5.0                      4.0   \n",
            "1             1015425.0              3.0                      1.0   \n",
            "2             1016277.0              6.0                      8.0   \n",
            "3             1017023.0              4.0                      1.0   \n",
            "4             1017122.0              8.0                     10.0   \n",
            "..                  ...              ...                      ...   \n",
            "693            776715.0              3.0                      1.0   \n",
            "694            841769.0              2.0                      1.0   \n",
            "695            888820.0              5.0                     10.0   \n",
            "696            897471.0              4.0                      8.0   \n",
            "697            897471.0              4.0                      8.0   \n",
            "\n",
            "     Uniformity of Cell Shape  Marginal Adhesion  Single Epithelial Cell Size  \\\n",
            "0                         4.0                5.0                          7.0   \n",
            "1                         1.0                1.0                          2.0   \n",
            "2                         8.0                1.0                          3.0   \n",
            "3                         1.0                3.0                          2.0   \n",
            "4                        10.0                8.0                          7.0   \n",
            "..                        ...                ...                          ...   \n",
            "693                       1.0                1.0                          3.0   \n",
            "694                       1.0                1.0                          2.0   \n",
            "695                      10.0                3.0                          7.0   \n",
            "696                       6.0                4.0                          3.0   \n",
            "697                       8.0                5.0                          4.0   \n",
            "\n",
            "     Bare Nuclei  Bland Chromatin  Normal Nucleoli  Mitoses  Class  \n",
            "0           10.0              3.0              2.0      1.0    2.0  \n",
            "1            2.0              3.0              1.0      1.0    2.0  \n",
            "2            4.0              3.0              7.0      1.0    2.0  \n",
            "3            1.0              3.0              1.0      1.0    2.0  \n",
            "4           10.0              9.0              7.0      1.0    4.0  \n",
            "..           ...              ...              ...      ...    ...  \n",
            "693          2.0              1.0              1.0      1.0    2.0  \n",
            "694          1.0              1.0              1.0      1.0    2.0  \n",
            "695          3.0              8.0             10.0      2.0    4.0  \n",
            "696          4.0             10.0              6.0      1.0    4.0  \n",
            "697          5.0             10.0              4.0      1.0    4.0  \n",
            "\n",
            "[698 rows x 11 columns]\n"
          ]
        }
      ],
      "source": [
        "# reading csv files\n",
        "data =  pd.read_csv('breast-cancer-wisconsin.data', sep = ',', na_values=\"?\")\n",
        "d1 = np.array(data)\n",
        "col = ['Sample code number', 'Clump Thickness', 'Uniformity of Cell Size', 'Uniformity of Cell Shape', 'Marginal Adhesion', 'Single Epithelial Cell Size', 'Bare Nuclei', 'Bland Chromatin', 'Normal Nucleoli', 'Mitoses', 'Class']\n",
        "df = pd.DataFrame(data=d1, columns=col)\n",
        "print(df)"
      ]
    },
    {
      "cell_type": "markdown",
      "metadata": {
        "id": "VtIWqGFx6jwt"
      },
      "source": [
        "Check and replace the null values."
      ]
    },
    {
      "cell_type": "code",
      "execution_count": null,
      "metadata": {
        "colab": {
          "base_uri": "https://localhost:8080/"
        },
        "id": "3T-GFTrf4-KU",
        "outputId": "080f3982-2144-49ce-da77-bd754f9b49c0"
      },
      "outputs": [
        {
          "output_type": "execute_result",
          "data": {
            "text/plain": [
              "Sample code number              0\n",
              "Clump Thickness                 0\n",
              "Uniformity of Cell Size         0\n",
              "Uniformity of Cell Shape        0\n",
              "Marginal Adhesion               0\n",
              "Single Epithelial Cell Size     0\n",
              "Bare Nuclei                    16\n",
              "Bland Chromatin                 0\n",
              "Normal Nucleoli                 0\n",
              "Mitoses                         0\n",
              "Class                           0\n",
              "dtype: int64"
            ]
          },
          "metadata": {},
          "execution_count": 71
        }
      ],
      "source": [
        "df.isnull().sum()"
      ]
    },
    {
      "cell_type": "code",
      "execution_count": null,
      "metadata": {
        "id": "xAYPxRQ_5JF7"
      },
      "outputs": [],
      "source": [
        "df['Bare Nuclei'] = df['Bare Nuclei'].replace(np.NaN, df['Bare Nuclei'].mean())"
      ]
    },
    {
      "cell_type": "code",
      "execution_count": null,
      "metadata": {
        "colab": {
          "base_uri": "https://localhost:8080/"
        },
        "id": "XZP8j5yL5Qud",
        "outputId": "019f81f2-35db-43d3-dc06-11e72cbb4221"
      },
      "outputs": [
        {
          "output_type": "execute_result",
          "data": {
            "text/plain": [
              "Sample code number             0\n",
              "Clump Thickness                0\n",
              "Uniformity of Cell Size        0\n",
              "Uniformity of Cell Shape       0\n",
              "Marginal Adhesion              0\n",
              "Single Epithelial Cell Size    0\n",
              "Bare Nuclei                    0\n",
              "Bland Chromatin                0\n",
              "Normal Nucleoli                0\n",
              "Mitoses                        0\n",
              "Class                          0\n",
              "dtype: int64"
            ]
          },
          "metadata": {},
          "execution_count": 73
        }
      ],
      "source": [
        "df.isnull().sum()"
      ]
    },
    {
      "cell_type": "code",
      "source": [
        "df.info()"
      ],
      "metadata": {
        "colab": {
          "base_uri": "https://localhost:8080/"
        },
        "id": "I0xOwiugDKFQ",
        "outputId": "4600bcdb-9f92-4bd6-f35d-2ca80c7e478d"
      },
      "execution_count": null,
      "outputs": [
        {
          "output_type": "stream",
          "name": "stdout",
          "text": [
            "<class 'pandas.core.frame.DataFrame'>\n",
            "RangeIndex: 698 entries, 0 to 697\n",
            "Data columns (total 11 columns):\n",
            " #   Column                       Non-Null Count  Dtype  \n",
            "---  ------                       --------------  -----  \n",
            " 0   Sample code number           698 non-null    float64\n",
            " 1   Clump Thickness              698 non-null    float64\n",
            " 2   Uniformity of Cell Size      698 non-null    float64\n",
            " 3   Uniformity of Cell Shape     698 non-null    float64\n",
            " 4   Marginal Adhesion            698 non-null    float64\n",
            " 5   Single Epithelial Cell Size  698 non-null    float64\n",
            " 6   Bare Nuclei                  698 non-null    float64\n",
            " 7   Bland Chromatin              698 non-null    float64\n",
            " 8   Normal Nucleoli              698 non-null    float64\n",
            " 9   Mitoses                      698 non-null    float64\n",
            " 10  Class                        698 non-null    float64\n",
            "dtypes: float64(11)\n",
            "memory usage: 60.1 KB\n"
          ]
        }
      ]
    },
    {
      "cell_type": "code",
      "execution_count": null,
      "metadata": {
        "colab": {
          "base_uri": "https://localhost:8080/",
          "height": 268
        },
        "id": "n12fh-GT7las",
        "outputId": "132bdef2-1af1-4e21-b1f8-a8ce327e319c"
      },
      "outputs": [
        {
          "output_type": "execute_result",
          "data": {
            "text/plain": [
              "   Sample code number  Clump Thickness  Uniformity of Cell Size  \\\n",
              "0           1002945.0              5.0                      4.0   \n",
              "1           1015425.0              3.0                      1.0   \n",
              "2           1016277.0              6.0                      8.0   \n",
              "3           1017023.0              4.0                      1.0   \n",
              "4           1017122.0              8.0                     10.0   \n",
              "\n",
              "   Uniformity of Cell Shape  Marginal Adhesion  Single Epithelial Cell Size  \\\n",
              "0                       4.0                5.0                          7.0   \n",
              "1                       1.0                1.0                          2.0   \n",
              "2                       8.0                1.0                          3.0   \n",
              "3                       1.0                3.0                          2.0   \n",
              "4                      10.0                8.0                          7.0   \n",
              "\n",
              "   Bare Nuclei  Bland Chromatin  Normal Nucleoli  Mitoses  Class  \n",
              "0         10.0              3.0              2.0      1.0    2.0  \n",
              "1          2.0              3.0              1.0      1.0    2.0  \n",
              "2          4.0              3.0              7.0      1.0    2.0  \n",
              "3          1.0              3.0              1.0      1.0    2.0  \n",
              "4         10.0              9.0              7.0      1.0    4.0  "
            ],
            "text/html": [
              "\n",
              "  <div id=\"df-aecafa83-e24c-4e0e-85c5-e8bb2d2f69ea\">\n",
              "    <div class=\"colab-df-container\">\n",
              "      <div>\n",
              "<style scoped>\n",
              "    .dataframe tbody tr th:only-of-type {\n",
              "        vertical-align: middle;\n",
              "    }\n",
              "\n",
              "    .dataframe tbody tr th {\n",
              "        vertical-align: top;\n",
              "    }\n",
              "\n",
              "    .dataframe thead th {\n",
              "        text-align: right;\n",
              "    }\n",
              "</style>\n",
              "<table border=\"1\" class=\"dataframe\">\n",
              "  <thead>\n",
              "    <tr style=\"text-align: right;\">\n",
              "      <th></th>\n",
              "      <th>Sample code number</th>\n",
              "      <th>Clump Thickness</th>\n",
              "      <th>Uniformity of Cell Size</th>\n",
              "      <th>Uniformity of Cell Shape</th>\n",
              "      <th>Marginal Adhesion</th>\n",
              "      <th>Single Epithelial Cell Size</th>\n",
              "      <th>Bare Nuclei</th>\n",
              "      <th>Bland Chromatin</th>\n",
              "      <th>Normal Nucleoli</th>\n",
              "      <th>Mitoses</th>\n",
              "      <th>Class</th>\n",
              "    </tr>\n",
              "  </thead>\n",
              "  <tbody>\n",
              "    <tr>\n",
              "      <th>0</th>\n",
              "      <td>1002945.0</td>\n",
              "      <td>5.0</td>\n",
              "      <td>4.0</td>\n",
              "      <td>4.0</td>\n",
              "      <td>5.0</td>\n",
              "      <td>7.0</td>\n",
              "      <td>10.0</td>\n",
              "      <td>3.0</td>\n",
              "      <td>2.0</td>\n",
              "      <td>1.0</td>\n",
              "      <td>2.0</td>\n",
              "    </tr>\n",
              "    <tr>\n",
              "      <th>1</th>\n",
              "      <td>1015425.0</td>\n",
              "      <td>3.0</td>\n",
              "      <td>1.0</td>\n",
              "      <td>1.0</td>\n",
              "      <td>1.0</td>\n",
              "      <td>2.0</td>\n",
              "      <td>2.0</td>\n",
              "      <td>3.0</td>\n",
              "      <td>1.0</td>\n",
              "      <td>1.0</td>\n",
              "      <td>2.0</td>\n",
              "    </tr>\n",
              "    <tr>\n",
              "      <th>2</th>\n",
              "      <td>1016277.0</td>\n",
              "      <td>6.0</td>\n",
              "      <td>8.0</td>\n",
              "      <td>8.0</td>\n",
              "      <td>1.0</td>\n",
              "      <td>3.0</td>\n",
              "      <td>4.0</td>\n",
              "      <td>3.0</td>\n",
              "      <td>7.0</td>\n",
              "      <td>1.0</td>\n",
              "      <td>2.0</td>\n",
              "    </tr>\n",
              "    <tr>\n",
              "      <th>3</th>\n",
              "      <td>1017023.0</td>\n",
              "      <td>4.0</td>\n",
              "      <td>1.0</td>\n",
              "      <td>1.0</td>\n",
              "      <td>3.0</td>\n",
              "      <td>2.0</td>\n",
              "      <td>1.0</td>\n",
              "      <td>3.0</td>\n",
              "      <td>1.0</td>\n",
              "      <td>1.0</td>\n",
              "      <td>2.0</td>\n",
              "    </tr>\n",
              "    <tr>\n",
              "      <th>4</th>\n",
              "      <td>1017122.0</td>\n",
              "      <td>8.0</td>\n",
              "      <td>10.0</td>\n",
              "      <td>10.0</td>\n",
              "      <td>8.0</td>\n",
              "      <td>7.0</td>\n",
              "      <td>10.0</td>\n",
              "      <td>9.0</td>\n",
              "      <td>7.0</td>\n",
              "      <td>1.0</td>\n",
              "      <td>4.0</td>\n",
              "    </tr>\n",
              "  </tbody>\n",
              "</table>\n",
              "</div>\n",
              "      <button class=\"colab-df-convert\" onclick=\"convertToInteractive('df-aecafa83-e24c-4e0e-85c5-e8bb2d2f69ea')\"\n",
              "              title=\"Convert this dataframe to an interactive table.\"\n",
              "              style=\"display:none;\">\n",
              "        \n",
              "  <svg xmlns=\"http://www.w3.org/2000/svg\" height=\"24px\"viewBox=\"0 0 24 24\"\n",
              "       width=\"24px\">\n",
              "    <path d=\"M0 0h24v24H0V0z\" fill=\"none\"/>\n",
              "    <path d=\"M18.56 5.44l.94 2.06.94-2.06 2.06-.94-2.06-.94-.94-2.06-.94 2.06-2.06.94zm-11 1L8.5 8.5l.94-2.06 2.06-.94-2.06-.94L8.5 2.5l-.94 2.06-2.06.94zm10 10l.94 2.06.94-2.06 2.06-.94-2.06-.94-.94-2.06-.94 2.06-2.06.94z\"/><path d=\"M17.41 7.96l-1.37-1.37c-.4-.4-.92-.59-1.43-.59-.52 0-1.04.2-1.43.59L10.3 9.45l-7.72 7.72c-.78.78-.78 2.05 0 2.83L4 21.41c.39.39.9.59 1.41.59.51 0 1.02-.2 1.41-.59l7.78-7.78 2.81-2.81c.8-.78.8-2.07 0-2.86zM5.41 20L4 18.59l7.72-7.72 1.47 1.35L5.41 20z\"/>\n",
              "  </svg>\n",
              "      </button>\n",
              "      \n",
              "  <style>\n",
              "    .colab-df-container {\n",
              "      display:flex;\n",
              "      flex-wrap:wrap;\n",
              "      gap: 12px;\n",
              "    }\n",
              "\n",
              "    .colab-df-convert {\n",
              "      background-color: #E8F0FE;\n",
              "      border: none;\n",
              "      border-radius: 50%;\n",
              "      cursor: pointer;\n",
              "      display: none;\n",
              "      fill: #1967D2;\n",
              "      height: 32px;\n",
              "      padding: 0 0 0 0;\n",
              "      width: 32px;\n",
              "    }\n",
              "\n",
              "    .colab-df-convert:hover {\n",
              "      background-color: #E2EBFA;\n",
              "      box-shadow: 0px 1px 2px rgba(60, 64, 67, 0.3), 0px 1px 3px 1px rgba(60, 64, 67, 0.15);\n",
              "      fill: #174EA6;\n",
              "    }\n",
              "\n",
              "    [theme=dark] .colab-df-convert {\n",
              "      background-color: #3B4455;\n",
              "      fill: #D2E3FC;\n",
              "    }\n",
              "\n",
              "    [theme=dark] .colab-df-convert:hover {\n",
              "      background-color: #434B5C;\n",
              "      box-shadow: 0px 1px 3px 1px rgba(0, 0, 0, 0.15);\n",
              "      filter: drop-shadow(0px 1px 2px rgba(0, 0, 0, 0.3));\n",
              "      fill: #FFFFFF;\n",
              "    }\n",
              "  </style>\n",
              "\n",
              "      <script>\n",
              "        const buttonEl =\n",
              "          document.querySelector('#df-aecafa83-e24c-4e0e-85c5-e8bb2d2f69ea button.colab-df-convert');\n",
              "        buttonEl.style.display =\n",
              "          google.colab.kernel.accessAllowed ? 'block' : 'none';\n",
              "\n",
              "        async function convertToInteractive(key) {\n",
              "          const element = document.querySelector('#df-aecafa83-e24c-4e0e-85c5-e8bb2d2f69ea');\n",
              "          const dataTable =\n",
              "            await google.colab.kernel.invokeFunction('convertToInteractive',\n",
              "                                                     [key], {});\n",
              "          if (!dataTable) return;\n",
              "\n",
              "          const docLinkHtml = 'Like what you see? Visit the ' +\n",
              "            '<a target=\"_blank\" href=https://colab.research.google.com/notebooks/data_table.ipynb>data table notebook</a>'\n",
              "            + ' to learn more about interactive tables.';\n",
              "          element.innerHTML = '';\n",
              "          dataTable['output_type'] = 'display_data';\n",
              "          await google.colab.output.renderOutput(dataTable, element);\n",
              "          const docLink = document.createElement('div');\n",
              "          docLink.innerHTML = docLinkHtml;\n",
              "          element.appendChild(docLink);\n",
              "        }\n",
              "      </script>\n",
              "    </div>\n",
              "  </div>\n",
              "  "
            ]
          },
          "metadata": {},
          "execution_count": 75
        }
      ],
      "source": [
        "df.head()"
      ]
    },
    {
      "cell_type": "markdown",
      "metadata": {
        "id": "W3iBBQ_K6utn"
      },
      "source": [
        "Split the Dataset into x and y"
      ]
    },
    {
      "cell_type": "code",
      "execution_count": null,
      "metadata": {
        "id": "up_4wdwHTIBj"
      },
      "outputs": [],
      "source": [
        "x = pd.DataFrame(df.iloc[:, 1:9].values)\n",
        "y = df.iloc[:, 9].values"
      ]
    },
    {
      "cell_type": "code",
      "execution_count": null,
      "metadata": {
        "id": "abvU4J-d5XDl"
      },
      "outputs": [],
      "source": [
        "from sklearn.model_selection import train_test_split\n",
        "x_train, x_test, y_train, y_test = train_test_split(x, y, test_size = 0.2, random_state = 0)"
      ]
    },
    {
      "cell_type": "code",
      "source": [
        "from sklearn.preprocessing import MinMaxScaler\n",
        "scaler = MinMaxScaler()\n",
        "x_train = scaler.fit_transform(x_train)\n",
        "x_test = scaler.transform(x_test)"
      ],
      "metadata": {
        "id": "0WhJuXyF-27_"
      },
      "execution_count": null,
      "outputs": []
    },
    {
      "cell_type": "code",
      "source": [
        "print(type(x_train), type(x_test))"
      ],
      "metadata": {
        "colab": {
          "base_uri": "https://localhost:8080/"
        },
        "id": "IOJMrw3z_krV",
        "outputId": "2c41c6db-9d27-4714-d47e-2e7c34f667b5"
      },
      "execution_count": null,
      "outputs": [
        {
          "output_type": "stream",
          "name": "stdout",
          "text": [
            "<class 'numpy.ndarray'> <class 'numpy.ndarray'>\n"
          ]
        }
      ]
    },
    {
      "cell_type": "markdown",
      "metadata": {
        "id": "wz_YJV3jNiBR"
      },
      "source": [
        "2. Build Artificial Neural Network"
      ]
    },
    {
      "cell_type": "code",
      "execution_count": null,
      "metadata": {
        "id": "BMDn9UthNmMS"
      },
      "outputs": [],
      "source": [
        "import keras\n",
        "from keras.models import Sequential\n",
        "from keras.layers import Dense\n",
        "\n",
        "# Initialize the ANN\n",
        "model = Sequential()\n",
        "\n",
        "#Add the input layer and the first hidden layer\n",
        "model.add(Dense(units = 6, activation = 'relu', input_dim = 8))\n",
        "\n",
        "#Add the second hidden layer\n",
        "model.add(Dense(units = 6, activation = 'relu'))\n",
        "\n",
        "#Add the output layer\n",
        "model.add(Dense(units = 1, activation = 'sigmoid'))"
      ]
    },
    {
      "cell_type": "code",
      "source": [
        "'''import keras\n",
        "from keras.models import Sequential\n",
        "from keras.layers import Dense\n",
        "\n",
        "model = keras.Sequential([keras.layers.Dense(3, input_shape=(8,), activation ='relu'), \n",
        "                          keras.layers.Dense(3, activation = 'relu'), \n",
        "                          keras.layers.Dense(1, activation = 'sigmoid')])'''"
      ],
      "metadata": {
        "id": "8q3ucWfWPdIU",
        "colab": {
          "base_uri": "https://localhost:8080/",
          "height": 71
        },
        "outputId": "d3e42e47-1353-420a-8ea0-3f724de09def"
      },
      "execution_count": null,
      "outputs": [
        {
          "output_type": "execute_result",
          "data": {
            "text/plain": [
              "\"import keras\\nfrom keras.models import Sequential\\nfrom keras.layers import Dense\\n\\nmodel = keras.Sequential([keras.layers.Dense(3, input_shape=(8,), activation ='relu'), \\n                          keras.layers.Dense(3, activation = 'relu'), \\n                          keras.layers.Dense(1, activation = 'sigmoid')])\""
            ],
            "application/vnd.google.colaboratory.intrinsic+json": {
              "type": "string"
            }
          },
          "metadata": {},
          "execution_count": 81
        }
      ]
    },
    {
      "cell_type": "markdown",
      "metadata": {
        "id": "h6V44EU9TiTc"
      },
      "source": [
        "\n",
        "3. Train the ANN"
      ]
    },
    {
      "cell_type": "markdown",
      "source": [
        "Compile the ANN"
      ],
      "metadata": {
        "id": "QAxzJHC3ycKB"
      }
    },
    {
      "cell_type": "code",
      "execution_count": null,
      "metadata": {
        "id": "XDT8mfW7Tj25"
      },
      "outputs": [],
      "source": [
        "model.compile(optimizer = 'adam', loss = 'binary_crossentropy', metrics = ['accuracy'])"
      ]
    },
    {
      "cell_type": "markdown",
      "metadata": {
        "id": "v5gSHjLmVIJf"
      },
      "source": [
        "Adam is the optimizer that can perform stochastic gradient descent. The main purpose of gradient descent is to minimize the cost function. The cost function is nothing but a method to find out the error between the actual output and the predicted output."
      ]
    },
    {
      "cell_type": "markdown",
      "metadata": {
        "id": "1gAnHdPlWJSl"
      },
      "source": [
        "Fit the ANN to the training set"
      ]
    },
    {
      "cell_type": "code",
      "source": [
        "model.fit(x_train, y_train, epochs=5, batch_size=10)"
      ],
      "metadata": {
        "colab": {
          "base_uri": "https://localhost:8080/"
        },
        "id": "QUHqUEpRTJQ5",
        "outputId": "050dfd98-62f5-43d2-8f51-645afa923b4e"
      },
      "execution_count": null,
      "outputs": [
        {
          "output_type": "stream",
          "name": "stdout",
          "text": [
            "Epoch 1/5\n",
            "56/56 [==============================] - 1s 2ms/step - loss: 0.8143 - accuracy: 0.4391\n",
            "Epoch 2/5\n",
            "56/56 [==============================] - 0s 2ms/step - loss: 0.5696 - accuracy: 0.8011\n",
            "Epoch 3/5\n",
            "56/56 [==============================] - 0s 2ms/step - loss: 0.3393 - accuracy: 0.8369\n",
            "Epoch 4/5\n",
            "56/56 [==============================] - 0s 2ms/step - loss: 0.0489 - accuracy: 0.8387\n",
            "Epoch 5/5\n",
            "56/56 [==============================] - 0s 2ms/step - loss: -0.3694 - accuracy: 0.8387\n"
          ]
        },
        {
          "output_type": "execute_result",
          "data": {
            "text/plain": [
              "<keras.callbacks.History at 0x7fabd79b4510>"
            ]
          },
          "metadata": {},
          "execution_count": 83
        }
      ]
    },
    {
      "cell_type": "markdown",
      "source": [
        "Predicting the Test Result"
      ],
      "metadata": {
        "id": "5J4GFtel8SOA"
      }
    },
    {
      "cell_type": "code",
      "source": [
        "y_pred = model.predict(x_test)\n",
        "y_pred = (y_pred > 0.5)"
      ],
      "metadata": {
        "colab": {
          "base_uri": "https://localhost:8080/"
        },
        "id": "nl-ILtlfWTPv",
        "outputId": "c13827bb-2fef-4744-ba8a-bd0d402774a9"
      },
      "execution_count": null,
      "outputs": [
        {
          "output_type": "stream",
          "name": "stdout",
          "text": [
            "5/5 [==============================] - 0s 2ms/step\n"
          ]
        }
      ]
    },
    {
      "cell_type": "code",
      "source": [
        "from sklearn.metrics import confusion_matrix, accuracy_score\n",
        "\n",
        "cm = confusion_matrix(y_test, y_pred)\n",
        "print(cm)\n",
        "accuracy_score(y_test, y_pred)"
      ],
      "metadata": {
        "colab": {
          "base_uri": "https://localhost:8080/"
        },
        "id": "pBOFGC8CWKiI",
        "outputId": "9fb4a5e4-e6e7-4e7b-b14e-3946e91c7669"
      },
      "execution_count": null,
      "outputs": [
        {
          "output_type": "stream",
          "name": "stdout",
          "text": [
            "[[110   0   0   0   0   0   0   0   0]\n",
            " [ 13   0   0   0   0   0   0   0   0]\n",
            " [  4   0   0   0   0   0   0   0   0]\n",
            " [  2   0   0   0   0   0   0   0   0]\n",
            " [  1   0   0   0   0   0   0   0   0]\n",
            " [  1   0   0   0   0   0   0   0   0]\n",
            " [  3   0   0   0   0   0   0   0   0]\n",
            " [  4   0   0   0   0   0   0   0   0]\n",
            " [  2   0   0   0   0   0   0   0   0]]\n"
          ]
        },
        {
          "output_type": "execute_result",
          "data": {
            "text/plain": [
              "0.7857142857142857"
            ]
          },
          "metadata": {},
          "execution_count": 85
        }
      ]
    }
  ],
  "metadata": {
    "colab": {
      "provenance": []
    },
    "kernelspec": {
      "display_name": "Python 3",
      "name": "python3"
    },
    "language_info": {
      "name": "python"
    }
  },
  "nbformat": 4,
  "nbformat_minor": 0
}